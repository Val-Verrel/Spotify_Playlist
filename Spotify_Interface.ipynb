{
 "cells": [
  {
   "cell_type": "code",
   "execution_count": null,
   "id": "3d229477-f352-4b97-bff2-d4fa5cc86bc5",
   "metadata": {},
   "outputs": [],
   "source": [
    "import spotipy\n",
    "import json\n",
    "import webbrowser\n",
    "import pandas "
   ]
  },
  {
   "cell_type": "code",
   "execution_count": null,
   "id": "15ce7bb5-29f2-499e-b6bc-86d4cfe24ddc",
   "metadata": {},
   "outputs": [],
   "source": [
    "import urllib.request\n",
    "import spotipy.util as util"
   ]
  },
  {
   "cell_type": "code",
   "execution_count": null,
   "id": "94315f55-8c07-4a80-8979-9bf07f148120",
   "metadata": {},
   "outputs": [],
   "source": [
    "# Page 1 of top 250 film rankings from rapidapi\n",
    "import http.client\n",
    "\n",
    "conn = http.client.HTTPSConnection(\"moviesdatabase.p.rapidapi.com\")\n",
    "\n",
    "headers = {\n",
    "    'X-RapidAPI-Key': \"180e9fd158msh4b743fa15b47f24p17fa30jsndb4638d12411\",\n",
    "    'X-RapidAPI-Host': \"moviesdatabase.p.rapidapi.com\"\n",
    "}\n",
    "\n",
    "conn.request(\"GET\", \"/titles?list=top_rated_english_250&page=1\", headers=headers)\n",
    "\n",
    "res = conn.getresponse()\n",
    "data = res.read()\n",
    "\n",
    "print(data.decode(\"utf-8\"))"
   ]
  },
  {
   "cell_type": "code",
   "execution_count": null,
   "id": "b67d2bd7-aa03-442b-8d71-bf8c77183ac0",
   "metadata": {},
   "outputs": [],
   "source": [
    "import requests\n",
    "\n",
    "url = \"https://moviesdatabase.p.rapidapi.com/titles\"\n",
    "headers = {\n",
    "    'X-RapidAPI-Key': \"180e9fd158msh4b743fa15b47f24p17fa30jsndb4638d12411\",\n",
    "    'X-RapidAPI-Host': \"moviesdatabase.p.rapidapi.com\"\n",
    "}\n",
    "\n",
    "params = {\n",
    "    'list': 'top_rated_english_250',\n",
    "    'page': 1\n",
    "}\n",
    "\n",
    "response = requests.get(url, headers=headers, params=params)\n",
    "\n",
    "# Check if the request was successful (status code 200)\n",
    "if response.status_code == 200:\n",
    "    # View the API response content in JSON format\n",
    "    print(response.json())\n",
    "else:\n",
    "    # Print an error message if the request was not successful\n",
    "    print(f\"Error: {response.status_code}\")\n"
   ]
  },
  {
   "cell_type": "code",
   "execution_count": null,
   "id": "6730203c-e795-473b-b823-8c8c23bc56b4",
   "metadata": {},
   "outputs": [],
   "source": [
    "#Looking for a full page of results as opposed to 1\n",
    "\n",
    "import requests\n",
    "\n",
    "url = \"https://moviesdatabase.p.rapidapi.com/titles\"\n",
    "headers = {\n",
    "    'X-RapidAPI-Key': \"180e9fd158msh4b743fa15b47f24p17fa30jsndb4638d12411\",\n",
    "    'X-RapidAPI-Host': \"moviesdatabase.p.rapidapi.com\"\n",
    "}\n",
    "\n",
    "params = {\n",
    "    'list': 'top_rated_english_250',\n",
    "    'page': 1\n",
    "}\n",
    "\n",
    "response = requests.get(url, headers=headers, params=params)\n",
    "\n",
    "# Check if the request was successful (status code 200)\n",
    "if response.status_code == 200:\n",
    "    # Extract and display only the \"position\" and \"titleText\"\n",
    "    top_movies = response.json()['results']\n",
    "    for movie in top_movies:\n",
    "        position = movie['position']\n",
    "        title = movie['titleText']['text']\n",
    "        print(f\"Position: {position}, Title: {title}\")\n",
    "else:\n",
    "    # Print an error message if the request was not successful\n",
    "    print(f\"Error: {response.status_code}\")"
   ]
  },
  {
   "cell_type": "code",
   "execution_count": null,
   "id": "ab408d3c-86e6-4e1d-b24e-98645a194f6c",
   "metadata": {},
   "outputs": [],
   "source": [
    "# Exploring API to see the results of changing params - 'page' \n",
    "import requests\n",
    "\n",
    "url = \"https://moviesdatabase.p.rapidapi.com/titles\"\n",
    "headers = {\n",
    "    'X-RapidAPI-Key': \"180e9fd158msh4b743fa15b47f24p17fa30jsndb4638d12411\",\n",
    "    'X-RapidAPI-Host': \"moviesdatabase.p.rapidapi.com\"\n",
    "}\n",
    "\n",
    "params = {\n",
    "    'list': 'top_rated_english_250',\n",
    "    'page': 2\n",
    "}\n",
    "\n",
    "response = requests.get(url, headers=headers, params=params)\n",
    "\n",
    "# Check if the request was successful (status code 200)\n",
    "if response.status_code == 200:\n",
    "    # Extract and display only the \"position\" and \"titleText\"\n",
    "    top_movies = response.json()['results']\n",
    "    for movie in top_movies:\n",
    "        position = movie['position']\n",
    "        title = movie['titleText']['text']\n",
    "        print(f\"Position: {position}, Title: {title}\")\n",
    "else:\n",
    "    # Print an error message if the request was not successful\n",
    "    print(f\"Error: {response.status_code}\")"
   ]
  },
  {
   "cell_type": "code",
   "execution_count": null,
   "id": "72a8b269-b171-4501-8518-6f7cd655901a",
   "metadata": {},
   "outputs": [],
   "source": [
    "# Exploring API to see the results of changing params - 'page' \n",
    "\n",
    "import requests\n",
    "\n",
    "url = \"https://moviesdatabase.p.rapidapi.com/titles\"\n",
    "headers = {\n",
    "    'X-RapidAPI-Key': \"180e9fd158msh4b743fa15b47f24p17fa30jsndb4638d12411\",\n",
    "    'X-RapidAPI-Host': \"moviesdatabase.p.rapidapi.com\"\n",
    "}\n",
    "\n",
    "params = {\n",
    "    'list': 'top_rated_english_250',\n",
    "    'page': 3\n",
    "\n",
    "}\n",
    "\n",
    "response = requests.get(url, headers=headers, params=params)\n",
    "\n",
    "# Check if the request was successful (status code 200)\n",
    "if response.status_code == 200:\n",
    "    # Extract and display only the \"position\" and \"titleText\"\n",
    "    top_movies = response.json()['results']\n",
    "    for movie in top_movies:\n",
    "        position = movie['position']\n",
    "        title = movie['titleText']['text']\n",
    "        print(f\"Position: {position}, Title: {title}\")\n",
    "else:\n",
    "    # Print an error message if the request was not successful\n",
    "    print(f\"Error: {response.status_code}\")"
   ]
  },
  {
   "cell_type": "code",
   "execution_count": null,
   "id": "a75d1443-f421-487b-ae92-8b9919465af8",
   "metadata": {},
   "outputs": [],
   "source": [
    "# Looking for all 250 movie lists including title and rating (position)\n",
    "import requests\n",
    "\n",
    "url = \"https://moviesdatabase.p.rapidapi.com/titles\"\n",
    "headers = {\n",
    "    'X-RapidAPI-Key': \"180e9fd158msh4b743fa15b47f24p17fa30jsndb4638d12411\",\n",
    "    'X-RapidAPI-Host': \"moviesdatabase.p.rapidapi.com\"\n",
    "}\n",
    "\n",
    "params = {\n",
    "    'list': 'top_rated_english_250',\n",
    "    'page': 1  # Start from the first page\n",
    "}\n",
    "\n",
    "while True:\n",
    "    # Make a request for the current page\n",
    "    response = requests.get(url, headers=headers, params=params)\n",
    "\n",
    "    # Check if the request was successful (status code 200)\n",
    "    if response.status_code == 200:\n",
    "        # Extract and display the \"position\" and \"titleText\" for each movie\n",
    "        top_movies = response.json()['results']\n",
    "        for movie in top_movies:\n",
    "            position = movie['position']\n",
    "            title = movie['titleText']['text']\n",
    "            print(f\"Position: {position}, Title: {title}\")\n",
    "\n",
    "        # Check if there's a next page\n",
    "        next_page = response.json().get('next')\n",
    "        if not next_page:\n",
    "            break  # No more pages, exit the loop\n",
    "        else:\n",
    "            # Update the 'page' parameter for the next request\n",
    "            params['page'] += 1\n",
    "    else:\n",
    "        # Print an error message if the request was not successful\n",
    "        print(f\"Error: {response.status_code}\")\n",
    "        break  # Exit the loop if there's an error"
   ]
  },
  {
   "cell_type": "code",
   "execution_count": null,
   "id": "6f3c026b-5d9f-4edd-9db0-b60432974071",
   "metadata": {},
   "outputs": [],
   "source": [
    "# Looking for code for all 250 movies in chronological order of rating 1-250\n",
    "\n",
    "import requests\n",
    "\n",
    "url = \"https://moviesdatabase.p.rapidapi.com/titles\"\n",
    "headers = {\n",
    "    'X-RapidAPI-Key': \"180e9fd158msh4b743fa15b47f24p17fa30jsndb4638d12411\",\n",
    "    'X-RapidAPI-Host': \"moviesdatabase.p.rapidapi.com\"\n",
    "}\n",
    "\n",
    "params = {\n",
    "    'list': 'top_rated_english_250',\n",
    "    'page': 1  # Start from the first page\n",
    "}\n",
    "\n",
    "all_movies = []\n",
    "\n",
    "while True:\n",
    "    # Make a request for the current page\n",
    "    response = requests.get(url, headers=headers, params=params)\n",
    "\n",
    "    # Check if the request was successful (status code 200)\n",
    "    if response.status_code == 200:\n",
    "        # Extract and display the \"position\" and \"titleText\" for each movie\n",
    "        top_movies = response.json()['results']\n",
    "        for movie in top_movies:\n",
    "            position = movie['position']\n",
    "            title = movie['titleText']['text']\n",
    "            all_movies.append({\"position\": position, \"title\": title})\n",
    "\n",
    "        # Check if there's a next page\n",
    "        next_page = response.json().get('next')\n",
    "        if not next_page:\n",
    "            break  # No more pages, exit the loop\n",
    "        else:\n",
    "            # Update the 'page' parameter for the next request\n",
    "            params['page'] += 1\n",
    "    else:\n",
    "        # Print an error message if the request was not successful\n",
    "        print(f\"Error: {response.status_code}\")\n",
    "        break  # Exit the loop if there's an error\n",
    "\n",
    "# Sort the movies based on their positions\n",
    "sorted_movies = sorted(all_movies, key=lambda x: x['position'])\n",
    "\n",
    "# Print the sorted movies\n",
    "for movie in sorted_movies:\n",
    "    print(f\"Position: {movie['position']}, Title: {movie['title']}\")"
   ]
  },
  {
   "cell_type": "code",
   "execution_count": null,
   "id": "749871ec-683e-457b-80d8-7138c6757324",
   "metadata": {},
   "outputs": [],
   "source": [
    "# Create Spotify Object\n",
    "sp = spotipy.Spotify(auth=token)"
   ]
  },
  {
   "cell_type": "code",
   "execution_count": null,
   "id": "928c2b93-721e-4f87-9b07-9813d392c94d",
   "metadata": {},
   "outputs": [],
   "source": [
    "devices = sp.devices()\n",
    "print(devices)\n",
    "deviceID = devices['devices'][0]['id']"
   ]
  },
  {
   "cell_type": "code",
   "execution_count": null,
   "id": "ce9085f0-e84d-4045-b322-ee76338ded5e",
   "metadata": {},
   "outputs": [],
   "source": [
    "# A search for the data for the Avengers infinity war soundtrack \n",
    "track_results = sp.search(q='avengers infinity war', type='album', limit=1)"
   ]
  },
  {
   "cell_type": "code",
   "execution_count": null,
   "id": "0008f307-bc69-4ff8-9779-cfd72831fb4c",
   "metadata": {},
   "outputs": [],
   "source": [
    "print(track_results)"
   ]
  },
  {
   "cell_type": "code",
   "execution_count": null,
   "id": "640dc7b5-d35e-400b-a62a-0d4b7b8f1552",
   "metadata": {},
   "outputs": [],
   "source": [
    "album_id = track_results ['albums']['items'][0]['uri']\n"
   ]
  },
  {
   "cell_type": "code",
   "execution_count": null,
   "id": "424a3e79-1eb8-42ea-b799-9992b1f6ccb5",
   "metadata": {},
   "outputs": [],
   "source": [
    "print(album_id)"
   ]
  },
  {
   "cell_type": "code",
   "execution_count": null,
   "id": "84fed36f-a61d-4811-91bd-b54218e1c5b9",
   "metadata": {},
   "outputs": [],
   "source": [
    "tracks = sp.album_tracks(album_id)\n",
    "for track in tracks['items']:\n",
    "    print(track['name'])"
   ]
  },
  {
   "cell_type": "code",
   "execution_count": null,
   "id": "480ab48d-7c69-4109-a2a3-9d7d0136f71e",
   "metadata": {},
   "outputs": [],
   "source": [
    "sorted_movies[0]['title']"
   ]
  },
  {
   "cell_type": "code",
   "execution_count": null,
   "id": "6ac6c546-7653-4345-9a1f-355c8dd9cc68",
   "metadata": {},
   "outputs": [],
   "source": [
    "sorted_movies"
   ]
  },
  {
   "cell_type": "code",
   "execution_count": null,
   "id": "f2a6aa95-29d4-4cc2-a872-fe0d35105185",
   "metadata": {},
   "outputs": [],
   "source": [
    "# List comprehension to extract titles\n",
    "titles = [movie['title'] for movie in sorted_movies]\n",
    "\n",
    "# Print the titles\n",
    "print(titles)"
   ]
  },
  {
   "cell_type": "code",
   "execution_count": null,
   "id": "7e418834-0702-4d03-9859-08e0ceaed5ec",
   "metadata": {},
   "outputs": [],
   "source": [
    "# List of movie titles\n",
    "movie_titles = ['The Shawshank Redemption', 'The Godfather', 'The Dark Knight', 'The Godfather: Part II', 'De 12 gezworenen', \"Schindler's List\", 'The Lord of the Rings: The Return of the King', 'Spider-Man: Across the Spider-Verse', 'Pulp Fiction', 'The Lord of the Rings: The Fellowship of the Ring', 'Forrest Gump', 'Fight Club', 'The Lord of the Rings: The Two Towers', 'Inception', 'Star Wars: Episode V - The Empire Strikes Back', 'The Matrix', 'Goodfellas', \"One Flew Over the Cuckoo's Nest\", \"It's a Wonderful Life\", 'Seven', 'Interstellar', 'The Silence of the Lambs', 'Saving Private Ryan', 'The Green Mile', 'Star Wars: Episode IV - A New Hope', 'Terminator 2: Judgment Day', 'Terug naar de toekomst', 'The Pianist', 'Psycho', 'The Lion King', 'Léon', 'Gladiator', 'American History X', 'The Departed', 'The Prestige', 'Whiplash', 'The Usual Suspects', 'Modern Times', 'Casablanca', 'Rear Window', 'Alien', 'Apocalypse Now', 'Memento', 'Django Unchained', 'Indiana Jones and the Raiders of the Lost Ark', 'WALL·E', 'Sunset Boulevard', 'Witness for the Prosecution', 'Het veld van eer', 'De dictator', 'Avengers: Infinity War', 'Spider-Man: Een nieuw universum', 'The Shining', 'Aliens', 'The Dark Knight Rises', 'Dr. Strangelove or: How I Learned to Stop Worrying and Love the Bomb', 'Avengers: Endgame', 'Coco', 'Amadeus', 'American Beauty', 'Joker', 'Inglourious Basterds', 'Braveheart', 'Toy Story', 'Once Upon a Time in America', 'Hamilton', 'Good Will Hunting', \"Singin' in the Rain\", 'Requiem for a Dream', 'Toy Story 3', 'Star Wars: Episode VI - Return of the Jedi', '2001: Een zwerftocht in de ruimte', 'Eternal Sunshine of the Spotless Mind', 'Double Indemnity', 'Het appartement', 'Lawrence of Arabia', 'Reservoir Dogs', 'Citizen Kane', 'North by Northwest', 'Vertigo', 'Scarface', 'To Kill a Mockingbird', 'The Sting', 'A Clockwork Orange', 'Full Metal Jacket', 'Heat', 'Oordeel te Neurenberg', 'Up', 'Top Gun: Maverick', 'The Kid', 'Snatch', 'L.A. Confidential', 'Indiana Jones and the Last Crusade', '1917', 'Die Hard', 'Taxi Driver', 'All About Eve', 'The Father', 'Some Like It Hot', 'Batman Begins', 'Green Book', 'The Wolf of Wall Street', 'The Treasure of the Sierra Madre', 'Casino', 'Guardiani della Galassia Vol. 3', 'There Will Be Blood', 'Shutter Island', 'The Truman Show', 'Unforgiven', 'A Beautiful Mind', 'The Great Escape', 'The Sixth Sense', 'Spider-Man: No Way Home', 'Jurassic Park', 'Monty Python and the Holy Grail', 'The Thing', 'No Country for Old Men', 'The Elephant Man', 'Kill Bill: Vol. 1', 'Gejaagd door de wind', 'Dial M for Murder', 'Finding Nemo', 'Chinatown', 'V for Vendetta', 'Raging Bull', 'The Bridge on the River Kwai', 'Lock, Stock and Two Smoking Barrels', 'Binnenstebuiten', 'Spionnage in het spel', 'Warrior', 'Klaus', 'Three Billboards Outside Ebbing, Missouri', 'Trainspotting', 'Prisoners', 'Mr. Smith Goes to Washington', 'Fargo', 'On the Waterfront', 'Gran Torino', 'Barry Lyndon', 'Ben Hur', 'Harry Potter and the Deathly Hallows: Part 2', 'De beste jaren van ons leven', 'Catch Me If You Can', 'In the Name of the Father', 'Before Sunrise', 'Million Dollar Baby', 'The Third Man', 'Mary and Max.', 'Blade Runner', '12 Years a Slave', 'Hacksaw Ridge', 'The Grand Budapest Hotel', 'The Deer Hunter', 'Gone Girl', 'Dead Poets Society', 'How to Train Your Dragon', 'Mad Max: Fury Road', 'The Grapes of Wrath', 'Room', 'Monsters, Inc.', \"Le Mans '66\", 'De zomer van de witte haai', 'The Big Lebowski', 'Hotel Rwanda', 'All Quiet on the Western Front', 'The Red Shoes', 'Network', 'Rocky', 'Logan', 'Ratatouille', 'Platoon', \"Het gebeurde op 'n avond\", 'Hachi', 'Before Sunset', 'Paper Moon', 'Spotlight', 'Rebecca', 'Rush', 'Stand by Me', 'Into the Wild', 'Cool Hand Luke', 'The Wizard of Oz', 'The Sound of Music', 'De uitroeier', 'Inherit the Wind', 'The Exorcist', 'The Man Who Shot Liberty Valance', 'Pirates of the Caribbean: The Curse of the Black Pearl', 'White Heat', 'Paris, Texas', 'The Incredibles', 'Het grote carnaval', 'Groundhog Day', 'De IJzeren reus', 'The Help', 'Gandhi', \"Monty Python's Life of Brian\", 'Dances with Wolves', 'A Woman Under the Influence', 'Belle en het Beest', 'Aladdin', 'Scent of a Woman', 'Soul', 'Roman Holiday', 'Guardians of the Galaxy', 'Dog Day Afternoon', 'Kill Bill: Vol. 2', 'Lion', 'Donnie Darko', 'JFK', 'Song of the Sea', 'The Shop Around the Corner', 'The Princess Bride', \"Rosemary's Baby\", 'Anatomy of a Murder', 'Dune', 'Slumdog Millionaire', 'The Imitation Game', 'Butch Cassidy and the Sundance Kid', 'Brief Encounter', 'The Avengers', 'The Bourne Ultimatum', 'Magnolia', 'La La Land', 'Wat is er toch van Baby Jane terechtgekomen?', 'Casino Royale', \"The King's Speech\", 'Rain Man', 'Sin City', 'The Message', 'Black Swan', \"La leggenda del pianista sull'oceano\", 'Kind Hearts and Coronets', 'Dogville', 'The Martian', 'The Pursuit of Happyness', 'Zootropolis', 'Sweet Smell of Success', 'Wie is bang voor Virginia Woolf?', 'The Graduate', 'The Night of the Hunter', 'The Straight Story', 'Secrets and Lies', 'Apenplaneet', '12 Monkeys', 'Blood Diamond', 'Papillon', 'Her', 'Blade Runner 2049', 'Annie Hall']\n",
    "\n",
    "\n",
    "# Create a new playlist\n",
    "playlist_name = 'Blockbuster Bangers'\n",
    "playlist_description = 'The greatest movie bangers ever'\n",
    "playlist = sp.user_playlist_create(username, playlist_name, public=True, description=playlist_description)\n",
    "\n",
    "# Go through movie titles and add the first track of each movie's soundtrack to the playlist\n",
    "for title in movie_titles:\n",
    "    # Search for the soundtrack\n",
    "    results = sp.search(q=f\"{title} soundtrack\", type='album')\n",
    "\n",
    "    # Check if there are any results\n",
    "    if results['albums']['items']:\n",
    "        # Get the first track of the soundtrack\n",
    "        album_id = results['albums']['items'][0]['id']\n",
    "        album_tracks = sp.album_tracks(album_id)\n",
    "        first_track_id = album_tracks['items'][0]['id']\n",
    "\n",
    "        # Add the track to the playlist\n",
    "        sp.playlist_add_items(playlist['id'], [first_track_id])\n",
    "        print(f\"Added the first track of the soundtrack of '{title}' to the playlist.\")\n",
    "\n",
    "    else:\n",
    "        print(f\"No soundtrack found for '{title}'.\")\n",
    "\n",
    "print(f\"Playlist '{playlist_name}' created successfully with the first track of each movie's soundtrack.\")\n"
   ]
  },
  {
   "cell_type": "code",
   "execution_count": null,
   "id": "b945faa1-0225-4469-8cde-93cb7b24d179",
   "metadata": {},
   "outputs": [],
   "source": [
    "# Launch playlist\n",
    "webbrowser.open(playlist['external_urls']['spotify'])"
   ]
  },
  {
   "cell_type": "code",
   "execution_count": null,
   "id": "f0b206aa-7a10-4e63-b44b-5ae5a9a35d3c",
   "metadata": {},
   "outputs": [],
   "source": []
  }
 ],
 "metadata": {
  "kernelspec": {
   "display_name": "Python 3 (ipykernel)",
   "language": "python",
   "name": "python3"
  },
  "language_info": {
   "codemirror_mode": {
    "name": "ipython",
    "version": 3
   },
   "file_extension": ".py",
   "mimetype": "text/x-python",
   "name": "python",
   "nbconvert_exporter": "python",
   "pygments_lexer": "ipython3",
   "version": "3.12.0"
  }
 },
 "nbformat": 4,
 "nbformat_minor": 5
}
